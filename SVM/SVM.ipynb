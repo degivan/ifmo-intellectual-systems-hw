{
 "cells": [
  {
   "cell_type": "markdown",
   "metadata": {},
   "source": [
    "# Задание №4\n",
    "\n",
    "Требуется написать SVM без библиотек, посчитать у него (разумеется) f-меру и confusion матрицу. Далее требуется разобраться в том, что такое критерий Вилкоксона, и сравнить с его помощью работу алгоритмов kNN и свежепосчитанный SVM, посчитать p-value. Всё это на старом наборе данных chips.txt из первой лабы. Уметь отвечать на любую теорию, как про SVM, так и про статистический тест."
   ]
  },
  {
   "cell_type": "code",
   "execution_count": 1,
   "metadata": {},
   "outputs": [],
   "source": [
    "import pandas as pd\n",
    "import matplotlib.pyplot as plt\n",
    "from matplotlib.colors import ListedColormap\n",
    "%matplotlib inline\n",
    "\n",
    "import numpy as np\n",
    "import scipy as sp\n",
    "from scipy import stats as sps\n",
    "import scipy.optimize as spo\n",
    "\n",
    "import math\n",
    "from collections import namedtuple\n",
    "from functools import partial\n",
    "\n",
    "eps = 1e-8"
   ]
  },
  {
   "cell_type": "markdown",
   "metadata": {},
   "source": [
    "# Работа с данными\n",
    "## Считываем данные"
   ]
  },
  {
   "cell_type": "code",
   "execution_count": 2,
   "metadata": {},
   "outputs": [],
   "source": [
    "data = pd.read_csv(\"chips.txt\", header = None)\n",
    "\n",
    "X = data.values[:,:2]\n",
    "X[:, 0] = X[:, 0]\n",
    "Y = data.values[:,2]"
   ]
  },
  {
   "cell_type": "markdown",
   "metadata": {},
   "source": [
    "## Разделим на части для кросвалидации"
   ]
  },
  {
   "cell_type": "code",
   "execution_count": 3,
   "metadata": {},
   "outputs": [],
   "source": [
    "np.random.seed(0)\n",
    "block_n = 10\n",
    "permutation = np.random.permutation(len(X))\n",
    "\n",
    "x_parts = np.array_split(X[permutation], block_n)\n",
    "y_parts = np.array_split(Y[permutation], block_n)"
   ]
  },
  {
   "cell_type": "markdown",
   "metadata": {},
   "source": [
    "# Реализуем k nearest neighbors"
   ]
  },
  {
   "cell_type": "code",
   "execution_count": 4,
   "metadata": {},
   "outputs": [],
   "source": [
    "class knnClassifier():\n",
    "    def __init__(self, params):\n",
    "        self.params = params\n",
    "        \n",
    "    def fit(self, x, y):\n",
    "        self.x = self.params.trans(x)\n",
    "        self.y = y\n",
    "        \n",
    "    def predict(self, points):\n",
    "        points = self.params.trans(points)\n",
    "        ans = []\n",
    "        for point in points:\n",
    "            distances = self.params.norm(self.x - point, axis = -1)\n",
    "            dist_arg_sorted = np.argsort(distances)\n",
    "            norm_distance = distances[dist_arg_sorted[self.params.k + 1]]\n",
    "\n",
    "            ys = np.unique(self.y)\n",
    "            scores = [np.sum(self.params.kernel(distances / norm_distance) * (self.y == y))\n",
    "                      for y in ys]\n",
    "            ans.append(ys[np.argmax(scores)])\n",
    "        return np.array(ans)"
   ]
  },
  {
   "cell_type": "markdown",
   "metadata": {},
   "source": [
    "#  Реализуем различные меры"
   ]
  },
  {
   "cell_type": "code",
   "execution_count": 5,
   "metadata": {},
   "outputs": [],
   "source": [
    "def safeDiv(a, b):\n",
    "    if (b == 0):\n",
    "        return 0\n",
    "    return a / b"
   ]
  },
  {
   "cell_type": "code",
   "execution_count": 6,
   "metadata": {},
   "outputs": [],
   "source": [
    "def precision(contingency_table):\n",
    "    return safeDiv(contingency_table[1][1], (contingency_table[1][1] + contingency_table[0][1]))\n",
    "\n",
    "def recall(contingency_table):\n",
    "    return safeDiv(contingency_table[1][1], (contingency_table[1][1] + contingency_table[0][0]))"
   ]
  },
  {
   "cell_type": "code",
   "execution_count": 7,
   "metadata": {},
   "outputs": [],
   "source": [
    "def f1_measure(contingency_table):\n",
    "    p = precision(contingency_table)\n",
    "    r = recall(contingency_table)\n",
    "    return safeDiv(2 * p * r, (p + r))\n",
    "\n",
    "def f1_measure_reversed(contingency_table):\n",
    "    ct = np.array(contingency_table)\n",
    "    for i in [0, 1]:\n",
    "        ct[i][0], ct[i][1] = ct[i][1], ct[i][0]\n",
    "    return f1_measure(ct)\n",
    "\n",
    "f1_measure_vec = np.vectorize(f1_measure, signature=\"(2,2)->()\")\n",
    "f1_measure_reversed_vec = np.vectorize(f1_measure_reversed, signature=\"(2,2)->()\")"
   ]
  },
  {
   "cell_type": "markdown",
   "metadata": {},
   "source": [
    "## Кросвалидация"
   ]
  },
  {
   "cell_type": "code",
   "execution_count": 8,
   "metadata": {},
   "outputs": [],
   "source": [
    "def cross_validate_vec(x_parts, y_parts, classifier, cl=1):\n",
    "    cts = []\n",
    "    for i in range(len(x_parts)):\n",
    "        x_train = np.concatenate(np.delete(x_parts, i, 0))\n",
    "        y_train = np.concatenate(np.delete(y_parts, i, 0))\n",
    "        x_test = x_parts[i]\n",
    "        y_test = y_parts[i]\n",
    "        \n",
    "        classifier.fit(x_train, y_train)\n",
    "        y_pred = classifier.predict(x_test)\n",
    "\n",
    "        true_positive  = np.sum(np.logical_and(y_pred == cl, y_test == cl))\n",
    "        false_positive = np.sum(np.logical_and(y_pred == cl, y_test != cl))\n",
    "        true_negative  = np.sum(np.logical_and(y_pred != cl, y_test != cl))\n",
    "        false_negative = np.sum(np.logical_and(y_pred != cl, y_test == cl))\n",
    "\n",
    "        contingency_table = [[0, 0], [0, 0]]\n",
    "        contingency_table[1][1] = true_positive  / y_test.shape[0]\n",
    "        contingency_table[0][1] = false_positive / y_test.shape[0]\n",
    "        contingency_table[1][0] = true_negative  / y_test.shape[0]\n",
    "        contingency_table[0][0] = false_negative / y_test.shape[0]\n",
    "        cts.append(contingency_table)\n",
    "    \n",
    "    return np.array(cts)\n",
    "\n",
    "def cross_validate(x_parts, y_parts, classifier, cl=1):\n",
    "    return np.average(cross_validate_vec(x_parts, y_parts, classifier, cl), axis = 0)"
   ]
  },
  {
   "cell_type": "code",
   "execution_count": 9,
   "metadata": {},
   "outputs": [],
   "source": [
    "Params = namedtuple(\"Params\", \"k norm trans kernel\")\n",
    "\n",
    "def identity(x):\n",
    "    return x\n",
    "\n",
    "def withRadius(x):\n",
    "    x = x - np.average(x, axis = 0)\n",
    "    return np.column_stack([\n",
    "        x[:,0],\n",
    "        x[:,1],\n",
    "        np.sqrt(x[:,0] ** 2 + x[:,1] ** 2)\n",
    "    ])\n",
    "\n",
    "def withSqr(x):\n",
    "    x = x - np.average(x, axis = 0)\n",
    "    return np.column_stack([\n",
    "        x[:,0],\n",
    "        x[:,1],\n",
    "        x[:,0] ** 2,\n",
    "        x[:,1] ** 2,\n",
    "        x[:,0] * x[:,1]\n",
    "    ])\n",
    "\n",
    "def with3(x):\n",
    "    x = x - np.average(x, axis = 0)\n",
    "    return np.column_stack([\n",
    "        x[:,0],\n",
    "        x[:,1],\n",
    "        x[:,0] ** 3,\n",
    "        x[:,0] ** 2 * x[:,1],\n",
    "        x[:,0] * x[:,1] ** 2,\n",
    "        x[:,1] ** 3\n",
    "    ])\n"
   ]
  },
  {
   "cell_type": "markdown",
   "metadata": {},
   "source": [
    "## Реализуем различные ядра"
   ]
  },
  {
   "cell_type": "code",
   "execution_count": 10,
   "metadata": {},
   "outputs": [],
   "source": [
    "def kernelConst(x):\n",
    "    return (np.abs(x) < 1.0) * 0.5\n",
    "\n",
    "def kernelTriangle(x):\n",
    "    xabs = np.abs(x)\n",
    "    return (xabs < 1.0) * (1.0 - xabs)\n",
    "\n",
    "def kernelEpanechnikov(x):\n",
    "    return 0.75 * (1.0 - x ** 2.0) * (np.abs(x) < 1.0)\n",
    "\n",
    "\n",
    "knn_params = [\n",
    "    Params(k, partial(np.linalg.norm, ord = norm_ord), trans_f, kernel_f)\n",
    "    for k in np.arange(2, round(math.sqrt(len(X)) + 1))\n",
    "    for norm_ord in [\n",
    "        1,\n",
    "        1.5,\n",
    "        2\n",
    "    ]\n",
    "    for trans_f in [\n",
    "        identity,\n",
    "        withSqr,\n",
    "        withRadius,\n",
    "        with3\n",
    "    ]\n",
    "    # Parzen-Rosenblatt window with variable window width\n",
    "    for kernel_f in [\n",
    "        kernelConst,\n",
    "        kernelTriangle,\n",
    "        kernelEpanechnikov\n",
    "    ]\n",
    "]"
   ]
  },
  {
   "cell_type": "code",
   "execution_count": 11,
   "metadata": {
    "scrolled": false
   },
   "outputs": [],
   "source": [
    "knn_cts = [cross_validate(x_parts, y_parts, knnClassifier(p))\n",
    "                     for p in knn_params]"
   ]
  },
  {
   "cell_type": "code",
   "execution_count": 12,
   "metadata": {},
   "outputs": [
    {
     "name": "stdout",
     "output_type": "stream",
     "text": [
      "Params(k=11, norm=functools.partial(<function norm at 0x7ff238196730>, ord=1), trans=<function identity at 0x7ff203056950>, kernel=<function kernelTriangle at 0x7ff20308e7b8>)\n"
     ]
    }
   ],
   "source": [
    "knn_best_index = np.argmax([f1_measure(ct) for ct in knn_cts])\n",
    "knn_best_param = knn_params[knn_best_index]\n",
    "knn_best_ct    = knn_cts[knn_best_index]    \n",
    "\n",
    "print(knn_best_param)"
   ]
  },
  {
   "cell_type": "markdown",
   "metadata": {},
   "source": [
    "# Отображение\n",
    "## Настройка цвета"
   ]
  },
  {
   "cell_type": "code",
   "execution_count": 13,
   "metadata": {},
   "outputs": [],
   "source": [
    "cmap_light = ListedColormap(['#FFAAAA', '#AAAAFF'])"
   ]
  },
  {
   "cell_type": "markdown",
   "metadata": {},
   "source": [
    "## Настройка шага"
   ]
  },
  {
   "cell_type": "code",
   "execution_count": 14,
   "metadata": {},
   "outputs": [],
   "source": [
    "step = 0.01\n",
    "x_min, y_min = np.amin(X, axis = 0) - step\n",
    "x_max, y_max = np.amax(X, axis = 0) + step"
   ]
  },
  {
   "cell_type": "markdown",
   "metadata": {},
   "source": [
    "Классу передаются параметры метки и классификатор\n",
    "\n",
    "Используется np.meshgrid: \n",
    "https://docs.scipy.org/doc/numpy-1.13.0/reference/generated/numpy.meshgrid.html\n",
    "Make N-D coordinate arrays for vectorized evaluations of N-D scalar/vector fields over N-D grids, given one-dimensional coordinate arrays x1, x2,..., xn.\n",
    "\n",
    "Отображжаем с помощью функиции plt.pcolormesh:\n",
    "https://matplotlib.org/devdocs/api/_as_gen/matplotlib.pyplot.pcolormesh.html\n",
    "Plot a quadrilateral mesh."
   ]
  },
  {
   "cell_type": "code",
   "execution_count": 15,
   "metadata": {},
   "outputs": [],
   "source": [
    "class Demonstrator():\n",
    "    \n",
    "    def __init__(self, x_min, y_min, x_max, y_max, step, classifier):\n",
    "        self.x_min = x_min\n",
    "        self.y_min = y_min\n",
    "        self.x_max = x_max\n",
    "        self.y_max = y_max\n",
    "        self.step = step\n",
    "        self.classifier = classifier\n",
    "        \n",
    "    def prepare(self, x, y):\n",
    "        self.x = x\n",
    "        self.y = y\n",
    "        xx, yy = np.meshgrid(np.arange(self.x_min, self.x_max, self.step),\n",
    "                             np.arange(self.y_min, self.y_max, self.step))\n",
    "        self.xx = xx\n",
    "        self.yy = yy\n",
    "\n",
    "        self.classifier.fit(x, y)\n",
    "        points = np.column_stack([self.xx.reshape((-1)), self.yy.reshape((-1))])\n",
    "        self.zz = np.array([self.classifier.predict([p]) for p in points]).reshape(xx.shape)\n",
    "\n",
    "    def plot(self):\n",
    "        plt.figure(figsize=(15, 15))\n",
    "        plt.xlim(self.x_min, self.x_max)\n",
    "        plt.ylim(self.y_min, self.y_max)\n",
    "\n",
    "        x0, y0 = self.x[self.y == 0].T\n",
    "        x1, y1 = self.x[self.y == 1].T\n",
    "\n",
    "        plt.pcolormesh(self.xx, self.yy, self.zz, cmap = cmap_light)\n",
    "        plt.scatter(x0, y0, marker = 'D', color = 'red',  s = 50)\n",
    "        plt.scatter(x1, y1, marker = 'o', color = 'blue', s = 50)\n",
    "        plt.show()"
   ]
  },
  {
   "cell_type": "code",
   "execution_count": 16,
   "metadata": {},
   "outputs": [],
   "source": [
    "d = Demonstrator(x_min, y_min, x_max, y_max, step, knnClassifier(knn_best_param))\n",
    "d.prepare(X, Y)"
   ]
  },
  {
   "cell_type": "code",
   "execution_count": 17,
   "metadata": {},
   "outputs": [
    {
     "data": {
      "image/png": "[encoded data removed]",
      "text/plain": [
       "<matplotlib.figure.Figure at 0x7ff2030571d0>"
      ]
     },
     "metadata": {},
     "output_type": "display_data"
    }
   ],
   "source": [
    "d.plot()"
   ]
  },
  {
   "cell_type": "code",
   "execution_count": 18,
   "metadata": {},
   "outputs": [],
   "source": [
    "class svnClassifier():\n",
    "    \n",
    "    def __init__(self, kernel, c):\n",
    "        self.kernel = kernel\n",
    "        self.c = c\n",
    "    \n",
    "    def kernel_vec(self, point):\n",
    "        return np.apply_along_axis(lambda x_i: self.kernel(x_i, point), 1, self.x)\n",
    "    \n",
    "    def fit(self, x, y):\n",
    "        l = len(x)\n",
    "        y = y * 2 - 1\n",
    "        \n",
    "        q_generator = lambda i, j : y[i] * y[j] * self.kernel(x[i], x[j])\n",
    "        q = np.fromfunction(np.vectorize(q_generator), (l, l), dtype=int)\n",
    "        l_ones = np.ones(l)\n",
    "\n",
    "        L = lambda x : x.dot(q).dot(x) / 2 - np.dot(l_ones, x)\n",
    "        constr = [ { \"type\": \"eq\",   \"fun\": lambda x: np.dot(y, x)        }\n",
    "                 , { \"type\": \"ineq\", \"fun\": lambda x: x                   }\n",
    "                 , { \"type\": \"ineq\", \"fun\": lambda x: self.c * l_ones - x } ]\n",
    "\n",
    "        opt = spo.minimize(L, np.random.randn(l), constraints = constr)\n",
    "        \n",
    "        self.l_y = opt.x * y\n",
    "        self.x   = x\n",
    "        \n",
    "        support_indices = np.nonzero(np.logical_and(opt.x > eps, opt.x < self.c - eps))[0]\n",
    "        self.w_0 = 0\n",
    "        if (len(support_indices) > 0):\n",
    "            sv_index = support_indices[0]\n",
    "            self.w_0 = np.dot(self.l_y, self.kernel_vec(x[sv_index])) - y[sv_index]\n",
    "        \n",
    "    def predict(self, points):\n",
    "        ans = []\n",
    "        for point in points:\n",
    "            ans.append((np.sign(np.dot(self.l_y, self.kernel_vec(point)) - self.w_0) + 1) / 2)\n",
    "        return np.array(ans, dtype = np.int)"
   ]
  },
  {
   "cell_type": "code",
   "execution_count": 19,
   "metadata": {},
   "outputs": [],
   "source": [
    "def expKern(x, y):\n",
    "    return 2.7182818284590452354 ** (- (np.linalg.norm(x - y) ** 2) / 2)\n",
    "\n",
    "def poly3(x, y):\n",
    "    return (np.dot(x, y) + 1) ** 3\n",
    "\n",
    "def wikiKern(x, y):\n",
    "    return np.dot(x, y)  + (np.linalg.norm(x) ** 2) * (np.linalg.norm(y) ** 2)\n",
    "\n",
    "svn_params = [(kern, c)\n",
    "              for kern in [\n",
    "                  expKern, \n",
    "                  poly3,\n",
    "              ]\n",
    "              for c in [\n",
    "                  5,\n",
    "                  8,\n",
    "                  10,\n",
    "              ]\n",
    "             ]"
   ]
  },
  {
   "cell_type": "code",
   "execution_count": 20,
   "metadata": {},
   "outputs": [],
   "source": [
    "svn_cts = [cross_validate(x_parts, y_parts, svnClassifier(kern, c))\n",
    "           for kern, c in svn_params]"
   ]
  },
  {
   "cell_type": "code",
   "execution_count": 21,
   "metadata": {},
   "outputs": [
    {
     "name": "stdout",
     "output_type": "stream",
     "text": [
      "(<function expKern at 0x7ff203056268>, 8)\n",
      "[array([[ 0.07651515,  0.10378788],\n",
      "       [ 0.40681818,  0.41287879]]), array([[ 0.05909091,  0.11212121],\n",
      "       [ 0.39848485,  0.43030303]]), array([[ 0.05909091,  0.11212121],\n",
      "       [ 0.39848485,  0.43030303]]), array([[ 0.05909091,  0.12045455],\n",
      "       [ 0.39015152,  0.43030303]]), array([[ 0.05909091,  0.11212121],\n",
      "       [ 0.39848485,  0.43030303]]), array([[ 0.05909091,  0.11212121],\n",
      "       [ 0.39848485,  0.43030303]])]\n"
     ]
    }
   ],
   "source": [
    "svn_best_index = np.argmax([f1_measure_reversed(ct) for ct in svn_cts])\n",
    "svn_best_param = svn_params[svn_best_index]\n",
    "svn_best_ct    = svn_cts[svn_best_index]    \n",
    "\n",
    "print(svn_best_param)\n",
    "print(svn_cts)"
   ]
  },
  {
   "cell_type": "code",
   "execution_count": 22,
   "metadata": {},
   "outputs": [
    {
     "name": "stdout",
     "output_type": "stream",
     "text": [
      "[[ 0.08409091  0.11212121]\n",
      " [ 0.39848485  0.40530303]]\n",
      "[[ 0.05909091  0.11212121]\n",
      " [ 0.39848485  0.43030303]]\n"
     ]
    }
   ],
   "source": [
    "print(cross_validate(x_parts, y_parts, knnClassifier(knn_best_param)))\n",
    "print(cross_validate(x_parts, y_parts, svnClassifier(svn_best_param[0], svn_best_param[1])))"
   ]
  },
  {
   "cell_type": "code",
   "execution_count": 23,
   "metadata": {},
   "outputs": [],
   "source": [
    "k = 2\n",
    "d = Demonstrator(x_min * k, y_min * k, x_max * k, y_max * k, step * k * 2, svnClassifier(*svn_best_param))\n",
    "d.prepare(X, Y)"
   ]
  },
  {
   "cell_type": "code",
   "execution_count": 24,
   "metadata": {},
   "outputs": [
    {
     "data": {
      "image/png": "[encoded data removed]",
      "text/plain": [
       "<matplotlib.figure.Figure at 0x7ff202fba668>"
      ]
     },
     "metadata": {},
     "output_type": "display_data"
    }
   ],
   "source": [
    "d.plot()"
   ]
  },
  {
   "cell_type": "markdown",
   "metadata": {},
   "source": [
    "# Тест Вилкоксона"
   ]
  },
  {
   "cell_type": "markdown",
   "metadata": {},
   "source": [
    "Посчитаем fi measure для всех векторов слов посчитанных с помощью rnn и svm "
   ]
  },
  {
   "cell_type": "code",
   "execution_count": 25,
   "metadata": {},
   "outputs": [],
   "source": [
    "knn_f1_vec = f1_measure_vec(cross_validate_vec(x_parts, y_parts, knnClassifier(knn_best_param)))\n",
    "svn_f1_vec = f1_measure_vec(cross_validate_vec(x_parts, y_parts, svnClassifier(svn_best_param[0], svn_best_param[1])))"
   ]
  },
  {
   "cell_type": "code",
   "execution_count": 26,
   "metadata": {},
   "outputs": [],
   "source": [
    "def wilcoxon(x, y):\n",
    "    d = x - y\n",
    "    d = np.compress(np.not_equal(d, 0), d, axis=-1)\n",
    "    n = len(d)\n",
    "    r = sps.rankdata(np.abs(d))\n",
    "    r_plus = np.sum((d > 0) * r, axis=0)\n",
    "    r_minus = np.sum((d < 0) * r, axis=0)\n",
    "    T = min(r_plus, r_minus)\n",
    "    \n",
    "    mu  = n * (n + 1) / 4\n",
    "    std = np.sqrt(n * (n + 1) * (2 * n + 1) / 24)\n",
    "    z   = (T - mu) / std\n",
    "    \n",
    "    return (T, 1 - sp.special.erf(abs(z)))"
   ]
  },
  {
   "cell_type": "code",
   "execution_count": 27,
   "metadata": {},
   "outputs": [
    {
     "name": "stdout",
     "output_type": "stream",
     "text": [
      "(1.0, 0.013175029697879093)\n"
     ]
    }
   ],
   "source": [
    "T = wilcoxon(knn_f1_vec, svn_f1_vec)\n",
    "print(T)"
   ]
  },
  {
   "cell_type": "code",
   "execution_count": null,
   "metadata": {},
   "outputs": [],
   "source": []
  }
 ],
 "metadata": {
  "kernelspec": {
   "display_name": "Python 3",
   "language": "python",
   "name": "python3"
  },
  "language_info": {
   "codemirror_mode": {
    "name": "ipython",
    "version": 3
   },
   "file_extension": ".py",
   "mimetype": "text/x-python",
   "name": "python",
   "nbconvert_exporter": "python",
   "pygments_lexer": "ipython3",
   "version": "3.5.2"
  }
 },
 "nbformat": 4,
 "nbformat_minor": 2
}
